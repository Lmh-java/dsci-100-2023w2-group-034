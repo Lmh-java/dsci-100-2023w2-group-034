{
 "cells": [
  {
   "cell_type": "markdown",
   "id": "ef168696-17d0-43d5-ba96-c34cfcdfa56a",
   "metadata": {},
   "source": [
    "# Project Proposal: Which is the PULSAR\n",
    "**DSCI 100 (007-34) Group Project Report**  \n",
    "Group members:\n",
    "- Elliot Saha\n",
    "- Alasdair Buchanan\n",
    "- Sarah Trevisan\n",
    "- Minghao Li"
   ]
  },
  {
   "cell_type": "markdown",
   "id": "e4043d63-cc9f-4d00-a085-d110a9562cef",
   "metadata": {},
   "source": [
    "## 1. Introduction"
   ]
  },
  {
   "cell_type": "markdown",
   "id": "71bd1866-7f7f-4266-a49d-b8ce3a901ed0",
   "metadata": {},
   "source": [
    "### 1.1 Background Information"
   ]
  },
  {
   "cell_type": "markdown",
   "id": "7e110d34-caf7-41c5-835b-c2efb783d0c9",
   "metadata": {},
   "source": [
    "### 1.2 Research Question"
   ]
  },
  {
   "cell_type": "markdown",
   "id": "5e09484f-c489-4f4f-a8db-777185de8ad2",
   "metadata": {},
   "source": [
    "### 1.3 Dataset"
   ]
  },
  {
   "cell_type": "markdown",
   "id": "a3a56b0a-db5b-4494-8c81-316aebfb1d7c",
   "metadata": {},
   "source": [
    "## 2. Methods & Results"
   ]
  },
  {
   "cell_type": "markdown",
   "id": "409f4692-ac88-45fd-a395-cef238d07fac",
   "metadata": {},
   "source": [
    "### 2.1 Method"
   ]
  },
  {
   "cell_type": "markdown",
   "id": "184f4a5e-290c-43ed-bbd1-45ea76ecc813",
   "metadata": {},
   "source": [
    "### 2.2 Result"
   ]
  },
  {
   "cell_type": "markdown",
   "id": "de75aee2-237c-48bb-8f7f-956c6fa78176",
   "metadata": {},
   "source": [
    "## 3. Discussion"
   ]
  },
  {
   "cell_type": "markdown",
   "id": "79b3c76f-c984-47cc-a953-bafd56352aa3",
   "metadata": {},
   "source": [
    "## 4. References"
   ]
  },
  {
   "cell_type": "code",
   "execution_count": null,
   "id": "a63481b9-3590-4e4d-a3b0-d39a70b5aff3",
   "metadata": {},
   "outputs": [],
   "source": []
  }
 ],
 "metadata": {
  "kernelspec": {
   "display_name": "R",
   "language": "R",
   "name": "ir"
  },
  "language_info": {
   "codemirror_mode": "r",
   "file_extension": ".r",
   "mimetype": "text/x-r-source",
   "name": "R",
   "pygments_lexer": "r",
   "version": "4.3.1"
  }
 },
 "nbformat": 4,
 "nbformat_minor": 5
}
