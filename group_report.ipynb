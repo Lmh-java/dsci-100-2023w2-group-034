{
 "cells": [
  {
   "cell_type": "code",
   "execution_count": null,
   "id": "acbf8f46-ba09-416b-80e4-691c8fffb570",
   "metadata": {},
   "outputs": [],
   "source": []
  }
 ],
 "metadata": {
  "kernelspec": {
   "display_name": "R",
   "language": "R",
   "name": "ir"
  },
  "language_info": {
   "codemirror_mode": "r",
   "file_extension": ".r",
   "mimetype": "text/x-r-source",
   "name": "R",
   "pygments_lexer": "r",
   "version": "4.3.1"
  }
 },
 "nbformat": 4,
 "nbformat_minor": 5
}
