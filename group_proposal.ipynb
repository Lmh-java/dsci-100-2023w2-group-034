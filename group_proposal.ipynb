{
 "cells": [
  {
   "cell_type": "markdown",
   "id": "bd75f4d9-9571-452f-b0e3-e495cd6f488d",
   "metadata": {},
   "source": [
    "# Project Proposal: Pulsar Classification\n",
    "**DSCI 100 (007-34) Group Project Proposal**  \n",
    "Group members:\n",
    "- Elliot Saha\n",
    "- Alasdair Buchanan\n",
    "- Sarah Trevisan\n",
    "- Minghao Li"
   ]
  },
  {
   "cell_type": "markdown",
   "id": "e03c395b-57d6-4530-9d66-20ba81d208b9",
   "metadata": {},
   "source": [
    "## 1. Introduction"
   ]
  },
  {
   "cell_type": "markdown",
   "id": "cacaf11b-0036-4707-bfad-4aac912971c0",
   "metadata": {},
   "source": [
    "### 1.1 Background Information"
   ]
  },
  {
   "cell_type": "markdown",
   "id": "e2c59c38-ddfa-4578-b24c-200345af9158",
   "metadata": {},
   "source": [
    "### 1.2 Research Question"
   ]
  },
  {
   "cell_type": "markdown",
   "id": "ec73e51a-fc62-4d52-947d-26d2397577c2",
   "metadata": {},
   "source": [
    "### 1.3 Dataset"
   ]
  },
  {
   "cell_type": "markdown",
   "id": "b9a88a04-e719-4d30-82f2-70693f09ea41",
   "metadata": {},
   "source": [
    "## 2. Data analysis"
   ]
  },
  {
   "cell_type": "markdown",
   "id": "c66a23af-ef3c-4622-bf99-4f9cccde30a2",
   "metadata": {},
   "source": [
    "### 2.1 Data Reading"
   ]
  },
  {
   "cell_type": "code",
   "execution_count": null,
   "id": "488aa775-713e-4011-bb20-0f71eaa7cb7f",
   "metadata": {},
   "outputs": [],
   "source": [
    "# import tidyverse, repr, and tidymodels\n",
    "library(tidyverse)\n",
    "library(repr)\n",
    "library(tidymodels)\n",
    "# set random seed\n",
    "set.seed(1111)"
   ]
  },
  {
   "cell_type": "code",
   "execution_count": null,
   "id": "251c1354-7f62-4143-98d4-11b130a84c46",
   "metadata": {},
   "outputs": [],
   "source": [
    "pulsar_data <- read_csv(\"data/HTRU_2.csv\", col_names=FALSE)\n",
    "head(pulsar_data)"
   ]
  },
  {
   "cell_type": "markdown",
   "id": "6ade02d1-acb1-4090-a8eb-f270da0721bf",
   "metadata": {},
   "source": [
    "As we can see from the dataset, there are 8 distinct variables and 1 target label with 17,898 observations in total."
   ]
  },
  {
   "cell_type": "markdown",
   "id": "80a819ba-2fe6-4835-a407-70ab87e1fa78",
   "metadata": {},
   "source": [
    "### 2.2 Data Wrangling"
   ]
  },
  {
   "cell_type": "markdown",
   "id": "35108fd4-d2bc-4b98-9595-fe8ee0100292",
   "metadata": {},
   "source": [
    "We noticed the dataframe does not have proper column names and the type of the label column is incorrect. Therefore, we performed the following operations to clean the data."
   ]
  },
  {
   "cell_type": "code",
   "execution_count": null,
   "id": "fac250b1-7291-43e2-b217-148b9fa3a12c",
   "metadata": {},
   "outputs": [],
   "source": [
    "# rename the columns according to data/Readme.txt\n",
    "pulsar_data <- pulsar_data |>\n",
    "    rename(profile_mean = X1,\n",
    "          profile_sd = X2,\n",
    "          profile_kurtosis = X3,\n",
    "          profile_skewness = X4,\n",
    "          DM_SNR_mean = X5,\n",
    "          DM_SNR_sd = X6,\n",
    "          DM_SNR_kurtosis = X7,\n",
    "          DM_SNR_skewness = X8,\n",
    "          pulsar_star = X9) |> \n",
    "    # mark the label column as a categorical variable\n",
    "    mutate(pulsar_star = as_factor(pulsar_star)) |>\n",
    "    # pulsar_star refers to if the row is a pulsar star or not\n",
    "    mutate(pulsar_star = fct_recode(pulsar_star, \"true\" = \"1\", \"false\" = \"0\"))\n",
    "\n",
    "head(pulsar_data)"
   ]
  },
  {
   "cell_type": "markdown",
   "id": "485a1335-f91a-4eb4-b8e5-9afcb107d721",
   "metadata": {},
   "source": [
    "From here, we want to remove missing values from our dataset"
   ]
  },
  {
   "cell_type": "code",
   "execution_count": null,
   "id": "cacf1153-b7ee-4584-a89d-1a3bf22af1a5",
   "metadata": {},
   "outputs": [],
   "source": [
    "pulsar_data <- pulsar_data |> drop_na()\n",
    "pulsar_data"
   ]
  },
  {
   "cell_type": "markdown",
   "id": "2a1f22e2-642d-4c13-af2c-e3d3b2917718",
   "metadata": {},
   "source": [
    "Here, we divide the entire data set to a training part and a test part. The training set is 70% of the entire dataset, while testing set takes the other 30%."
   ]
  },
  {
   "cell_type": "code",
   "execution_count": null,
   "id": "59129e68-8458-4238-a66e-10f59eb7b5b0",
   "metadata": {},
   "outputs": [],
   "source": [
    "pulsar_split <- initial_split(pulsar_data, prop = 0.7, strata = pulsar_star)  \n",
    "pulsar_train <- training(pulsar_split)\n",
    "pulsar_test <- testing(pulsar_split)\n",
    "head(pulsar_train)\n",
    "head(pulsar_test)\n",
    "# TODO: resample the observations to solve the category imbalance problem."
   ]
  },
  {
   "cell_type": "markdown",
   "id": "0f0a37b2-e861-45ff-8bec-d3dda3fb8da6",
   "metadata": {},
   "source": [
    "### 2.3 Data Summary"
   ]
  },
  {
   "cell_type": "markdown",
   "id": "7564042d-c7c4-4dc6-a36a-d0f14fe7cb1d",
   "metadata": {},
   "source": [
    "In order to get more insights on the datasets, here, we first analyze the number of observations in each class."
   ]
  },
  {
   "cell_type": "code",
   "execution_count": null,
   "id": "f22d910e-90f0-41c3-bae6-347b13fd6a91",
   "metadata": {},
   "outputs": [],
   "source": [
    "num_observations <- pulsar_train |>\n",
    "    group_by(pulsar_star) |>\n",
    "    summarize(num = n())\n",
    "num_observations"
   ]
  },
  {
   "cell_type": "markdown",
   "id": "d6d01fec-7481-4961-a94d-0efd73e6a299",
   "metadata": {},
   "source": [
    "## 3. Methods"
   ]
  },
  {
   "cell_type": "markdown",
   "id": "79d34a68-0ce2-45de-8a1f-3faa0dbea48a",
   "metadata": {},
   "source": [
    "## 4. Expected outcomes and significance"
   ]
  },
  {
   "cell_type": "code",
   "execution_count": null,
   "id": "a34714d6-22b9-4ded-bd07-1babf16282ac",
   "metadata": {},
   "outputs": [],
   "source": []
  }
 ],
 "metadata": {
  "kernelspec": {
   "display_name": "R",
   "language": "R",
   "name": "ir"
  },
  "language_info": {
   "codemirror_mode": "r",
   "file_extension": ".r",
   "mimetype": "text/x-r-source",
   "name": "R",
   "pygments_lexer": "r",
   "version": "4.3.1"
  }
 },
 "nbformat": 4,
 "nbformat_minor": 5
}
