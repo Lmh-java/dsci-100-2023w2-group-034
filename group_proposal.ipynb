{
 "cells": [
  {
   "cell_type": "markdown",
   "id": "bd75f4d9-9571-452f-b0e3-e495cd6f488d",
   "metadata": {},
   "source": [
    "# Project Proposal: Pulsar Classification\n",
    "**DSCI 100 (007-34) Group Project Proposal**  \n",
    "Group members:\n",
    "- Elliot Saha\n",
    "- Alasdair Buchanan\n",
    "- Sarah Trevisan\n",
    "- Minghao Li"
   ]
  },
  {
   "cell_type": "markdown",
   "id": "e03c395b-57d6-4530-9d66-20ba81d208b9",
   "metadata": {},
   "source": [
    "## 1. Introduction"
   ]
  },
  {
   "cell_type": "markdown",
   "id": "cacaf11b-0036-4707-bfad-4aac912971c0",
   "metadata": {},
   "source": [
    "### 1.1 Background Information"
   ]
  },
  {
   "cell_type": "markdown",
   "id": "e2c59c38-ddfa-4578-b24c-200345af9158",
   "metadata": {},
   "source": [
    "### 1.2 Research Question"
   ]
  },
  {
   "cell_type": "markdown",
   "id": "ec73e51a-fc62-4d52-947d-26d2397577c2",
   "metadata": {},
   "source": [
    "### 1.3 Dataset"
   ]
  },
  {
   "cell_type": "markdown",
   "id": "b9a88a04-e719-4d30-82f2-70693f09ea41",
   "metadata": {},
   "source": [
    "## 2. Data analysis"
   ]
  },
  {
   "cell_type": "markdown",
   "id": "c66a23af-ef3c-4622-bf99-4f9cccde30a2",
   "metadata": {},
   "source": [
    "### 2.1 Data Reading"
   ]
  },
  {
   "cell_type": "markdown",
   "id": "80a819ba-2fe6-4835-a407-70ab87e1fa78",
   "metadata": {},
   "source": [
    "### 2.2 Data Wrangling"
   ]
  },
  {
   "cell_type": "markdown",
   "id": "0f0a37b2-e861-45ff-8bec-d3dda3fb8da6",
   "metadata": {},
   "source": [
    "### 2.3 Data Summary"
   ]
  },
  {
   "cell_type": "markdown",
   "id": "d6d01fec-7481-4961-a94d-0efd73e6a299",
   "metadata": {},
   "source": [
    "## 3. Methods"
   ]
  },
  {
   "cell_type": "markdown",
   "id": "79d34a68-0ce2-45de-8a1f-3faa0dbea48a",
   "metadata": {},
   "source": [
    "## 4. Expected outcomes and significance"
   ]
  },
  {
   "cell_type": "code",
   "execution_count": null,
   "id": "a34714d6-22b9-4ded-bd07-1babf16282ac",
   "metadata": {},
   "outputs": [],
   "source": []
  }
 ],
 "metadata": {
  "kernelspec": {
   "display_name": "R",
   "language": "R",
   "name": "ir"
  },
  "language_info": {
   "codemirror_mode": "r",
   "file_extension": ".r",
   "mimetype": "text/x-r-source",
   "name": "R",
   "pygments_lexer": "r",
   "version": "4.3.1"
  }
 },
 "nbformat": 4,
 "nbformat_minor": 5
}
