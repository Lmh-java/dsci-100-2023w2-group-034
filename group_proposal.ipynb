{
 "cells": [
  {
   "cell_type": "markdown",
   "id": "bd75f4d9-9571-452f-b0e3-e495cd6f488d",
   "metadata": {},
   "source": [
    "# Project Proposal: Pulsar Classification\n",
    "**DSCI 100 (007-34) Group Project Proposal**  \n",
    "Group members:\n",
    "- Elliot Saha\n",
    "- Alasdair Buchanan\n",
    "- Sarah Trevisan\n",
    "- Minghao Li"
   ]
  },
  {
   "cell_type": "markdown",
   "id": "e03c395b-57d6-4530-9d66-20ba81d208b9",
   "metadata": {},
   "source": [
    "## 1. Introduction"
   ]
  },
  {
   "cell_type": "markdown",
   "id": "cacaf11b-0036-4707-bfad-4aac912971c0",
   "metadata": {},
   "source": [
    "### 1.1 Background Information"
   ]
  },
  {
   "cell_type": "markdown",
   "id": "e2c59c38-ddfa-4578-b24c-200345af9158",
   "metadata": {},
   "source": [
    "### 1.2 Research Question"
   ]
  },
  {
   "cell_type": "markdown",
   "id": "ec73e51a-fc62-4d52-947d-26d2397577c2",
   "metadata": {},
   "source": [
    "### 1.3 Dataset"
   ]
  },
  {
   "cell_type": "markdown",
   "id": "b9a88a04-e719-4d30-82f2-70693f09ea41",
   "metadata": {},
   "source": [
    "## 2. Data analysis"
   ]
  },
  {
   "cell_type": "markdown",
   "id": "c66a23af-ef3c-4622-bf99-4f9cccde30a2",
   "metadata": {},
   "source": [
    "### 2.1 Data Reading"
   ]
  },
  {
   "cell_type": "code",
   "execution_count": 1,
   "id": "488aa775-713e-4011-bb20-0f71eaa7cb7f",
   "metadata": {},
   "outputs": [
    {
     "name": "stderr",
     "output_type": "stream",
     "text": [
      "── \u001b[1mAttaching core tidyverse packages\u001b[22m ──────────────────────── tidyverse 2.0.0 ──\n",
      "\u001b[32m✔\u001b[39m \u001b[34mdplyr    \u001b[39m 1.1.3     \u001b[32m✔\u001b[39m \u001b[34mreadr    \u001b[39m 2.1.4\n",
      "\u001b[32m✔\u001b[39m \u001b[34mforcats  \u001b[39m 1.0.0     \u001b[32m✔\u001b[39m \u001b[34mstringr  \u001b[39m 1.5.0\n",
      "\u001b[32m✔\u001b[39m \u001b[34mggplot2  \u001b[39m 3.4.4     \u001b[32m✔\u001b[39m \u001b[34mtibble   \u001b[39m 3.2.1\n",
      "\u001b[32m✔\u001b[39m \u001b[34mlubridate\u001b[39m 1.9.3     \u001b[32m✔\u001b[39m \u001b[34mtidyr    \u001b[39m 1.3.0\n",
      "\u001b[32m✔\u001b[39m \u001b[34mpurrr    \u001b[39m 1.0.2     \n",
      "── \u001b[1mConflicts\u001b[22m ────────────────────────────────────────── tidyverse_conflicts() ──\n",
      "\u001b[31m✖\u001b[39m \u001b[34mdplyr\u001b[39m::\u001b[32mfilter()\u001b[39m masks \u001b[34mstats\u001b[39m::filter()\n",
      "\u001b[31m✖\u001b[39m \u001b[34mdplyr\u001b[39m::\u001b[32mlag()\u001b[39m    masks \u001b[34mstats\u001b[39m::lag()\n",
      "\u001b[36mℹ\u001b[39m Use the conflicted package (\u001b[3m\u001b[34m<http://conflicted.r-lib.org/>\u001b[39m\u001b[23m) to force all conflicts to become errors\n",
      "── \u001b[1mAttaching packages\u001b[22m ────────────────────────────────────── tidymodels 1.1.1 ──\n",
      "\n",
      "\u001b[32m✔\u001b[39m \u001b[34mbroom       \u001b[39m 1.0.5     \u001b[32m✔\u001b[39m \u001b[34mrsample     \u001b[39m 1.2.0\n",
      "\u001b[32m✔\u001b[39m \u001b[34mdials       \u001b[39m 1.2.0     \u001b[32m✔\u001b[39m \u001b[34mtune        \u001b[39m 1.1.2\n",
      "\u001b[32m✔\u001b[39m \u001b[34minfer       \u001b[39m 1.0.5     \u001b[32m✔\u001b[39m \u001b[34mworkflows   \u001b[39m 1.1.3\n",
      "\u001b[32m✔\u001b[39m \u001b[34mmodeldata   \u001b[39m 1.2.0     \u001b[32m✔\u001b[39m \u001b[34mworkflowsets\u001b[39m 1.0.1\n",
      "\u001b[32m✔\u001b[39m \u001b[34mparsnip     \u001b[39m 1.1.1     \u001b[32m✔\u001b[39m \u001b[34myardstick   \u001b[39m 1.2.0\n",
      "\u001b[32m✔\u001b[39m \u001b[34mrecipes     \u001b[39m 1.0.8     \n",
      "\n",
      "── \u001b[1mConflicts\u001b[22m ───────────────────────────────────────── tidymodels_conflicts() ──\n",
      "\u001b[31m✖\u001b[39m \u001b[34mscales\u001b[39m::\u001b[32mdiscard()\u001b[39m masks \u001b[34mpurrr\u001b[39m::discard()\n",
      "\u001b[31m✖\u001b[39m \u001b[34mdplyr\u001b[39m::\u001b[32mfilter()\u001b[39m   masks \u001b[34mstats\u001b[39m::filter()\n",
      "\u001b[31m✖\u001b[39m \u001b[34mrecipes\u001b[39m::\u001b[32mfixed()\u001b[39m  masks \u001b[34mstringr\u001b[39m::fixed()\n",
      "\u001b[31m✖\u001b[39m \u001b[34mdplyr\u001b[39m::\u001b[32mlag()\u001b[39m      masks \u001b[34mstats\u001b[39m::lag()\n",
      "\u001b[31m✖\u001b[39m \u001b[34myardstick\u001b[39m::\u001b[32mspec()\u001b[39m masks \u001b[34mreadr\u001b[39m::spec()\n",
      "\u001b[31m✖\u001b[39m \u001b[34mrecipes\u001b[39m::\u001b[32mstep()\u001b[39m   masks \u001b[34mstats\u001b[39m::step()\n",
      "\u001b[34m•\u001b[39m Search for functions across packages at \u001b[32mhttps://www.tidymodels.org/find/\u001b[39m\n",
      "\n"
     ]
    }
   ],
   "source": [
    "# import tidyverse, repr, and tidymodels\n",
    "library(tidyverse)\n",
    "library(repr)\n",
    "library(tidymodels)\n",
    "# set random seed\n",
    "set.seed(1111)"
   ]
  },
  {
   "cell_type": "code",
   "execution_count": 28,
   "id": "251c1354-7f62-4143-98d4-11b130a84c46",
   "metadata": {},
   "outputs": [
    {
     "name": "stderr",
     "output_type": "stream",
     "text": [
      "\u001b[1mRows: \u001b[22m\u001b[34m17898\u001b[39m \u001b[1mColumns: \u001b[22m\u001b[34m9\u001b[39m\n",
      "\u001b[36m──\u001b[39m \u001b[1mColumn specification\u001b[22m \u001b[36m────────────────────────────────────────────────────────\u001b[39m\n",
      "\u001b[1mDelimiter:\u001b[22m \",\"\n",
      "\u001b[32mdbl\u001b[39m (9): X1, X2, X3, X4, X5, X6, X7, X8, X9\n",
      "\n",
      "\u001b[36mℹ\u001b[39m Use `spec()` to retrieve the full column specification for this data.\n",
      "\u001b[36mℹ\u001b[39m Specify the column types or set `show_col_types = FALSE` to quiet this message.\n"
     ]
    },
    {
     "data": {
      "text/html": [
       "<table class=\"dataframe\">\n",
       "<caption>A tibble: 6 × 9</caption>\n",
       "<thead>\n",
       "\t<tr><th scope=col>X1</th><th scope=col>X2</th><th scope=col>X3</th><th scope=col>X4</th><th scope=col>X5</th><th scope=col>X6</th><th scope=col>X7</th><th scope=col>X8</th><th scope=col>X9</th></tr>\n",
       "\t<tr><th scope=col>&lt;dbl&gt;</th><th scope=col>&lt;dbl&gt;</th><th scope=col>&lt;dbl&gt;</th><th scope=col>&lt;dbl&gt;</th><th scope=col>&lt;dbl&gt;</th><th scope=col>&lt;dbl&gt;</th><th scope=col>&lt;dbl&gt;</th><th scope=col>&lt;dbl&gt;</th><th scope=col>&lt;dbl&gt;</th></tr>\n",
       "</thead>\n",
       "<tbody>\n",
       "\t<tr><td>140.56250</td><td>55.68378</td><td>-0.23457141</td><td>-0.6996484</td><td>3.199833</td><td>19.11043</td><td> 7.975532</td><td> 74.24222</td><td>0</td></tr>\n",
       "\t<tr><td>102.50781</td><td>58.88243</td><td> 0.46531815</td><td>-0.5150879</td><td>1.677258</td><td>14.86015</td><td>10.576487</td><td>127.39358</td><td>0</td></tr>\n",
       "\t<tr><td>103.01562</td><td>39.34165</td><td> 0.32332837</td><td> 1.0511644</td><td>3.121237</td><td>21.74467</td><td> 7.735822</td><td> 63.17191</td><td>0</td></tr>\n",
       "\t<tr><td>136.75000</td><td>57.17845</td><td>-0.06841464</td><td>-0.6362384</td><td>3.642977</td><td>20.95928</td><td> 6.896499</td><td> 53.59366</td><td>0</td></tr>\n",
       "\t<tr><td> 88.72656</td><td>40.67223</td><td> 0.60086608</td><td> 1.1234917</td><td>1.178930</td><td>11.46872</td><td>14.269573</td><td>252.56731</td><td>0</td></tr>\n",
       "\t<tr><td> 93.57031</td><td>46.69811</td><td> 0.53190485</td><td> 0.4167211</td><td>1.636288</td><td>14.54507</td><td>10.621748</td><td>131.39400</td><td>0</td></tr>\n",
       "</tbody>\n",
       "</table>\n"
      ],
      "text/latex": [
       "A tibble: 6 × 9\n",
       "\\begin{tabular}{lllllllll}\n",
       " X1 & X2 & X3 & X4 & X5 & X6 & X7 & X8 & X9\\\\\n",
       " <dbl> & <dbl> & <dbl> & <dbl> & <dbl> & <dbl> & <dbl> & <dbl> & <dbl>\\\\\n",
       "\\hline\n",
       "\t 140.56250 & 55.68378 & -0.23457141 & -0.6996484 & 3.199833 & 19.11043 &  7.975532 &  74.24222 & 0\\\\\n",
       "\t 102.50781 & 58.88243 &  0.46531815 & -0.5150879 & 1.677258 & 14.86015 & 10.576487 & 127.39358 & 0\\\\\n",
       "\t 103.01562 & 39.34165 &  0.32332837 &  1.0511644 & 3.121237 & 21.74467 &  7.735822 &  63.17191 & 0\\\\\n",
       "\t 136.75000 & 57.17845 & -0.06841464 & -0.6362384 & 3.642977 & 20.95928 &  6.896499 &  53.59366 & 0\\\\\n",
       "\t  88.72656 & 40.67223 &  0.60086608 &  1.1234917 & 1.178930 & 11.46872 & 14.269573 & 252.56731 & 0\\\\\n",
       "\t  93.57031 & 46.69811 &  0.53190485 &  0.4167211 & 1.636288 & 14.54507 & 10.621748 & 131.39400 & 0\\\\\n",
       "\\end{tabular}\n"
      ],
      "text/markdown": [
       "\n",
       "A tibble: 6 × 9\n",
       "\n",
       "| X1 &lt;dbl&gt; | X2 &lt;dbl&gt; | X3 &lt;dbl&gt; | X4 &lt;dbl&gt; | X5 &lt;dbl&gt; | X6 &lt;dbl&gt; | X7 &lt;dbl&gt; | X8 &lt;dbl&gt; | X9 &lt;dbl&gt; |\n",
       "|---|---|---|---|---|---|---|---|---|\n",
       "| 140.56250 | 55.68378 | -0.23457141 | -0.6996484 | 3.199833 | 19.11043 |  7.975532 |  74.24222 | 0 |\n",
       "| 102.50781 | 58.88243 |  0.46531815 | -0.5150879 | 1.677258 | 14.86015 | 10.576487 | 127.39358 | 0 |\n",
       "| 103.01562 | 39.34165 |  0.32332837 |  1.0511644 | 3.121237 | 21.74467 |  7.735822 |  63.17191 | 0 |\n",
       "| 136.75000 | 57.17845 | -0.06841464 | -0.6362384 | 3.642977 | 20.95928 |  6.896499 |  53.59366 | 0 |\n",
       "|  88.72656 | 40.67223 |  0.60086608 |  1.1234917 | 1.178930 | 11.46872 | 14.269573 | 252.56731 | 0 |\n",
       "|  93.57031 | 46.69811 |  0.53190485 |  0.4167211 | 1.636288 | 14.54507 | 10.621748 | 131.39400 | 0 |\n",
       "\n"
      ],
      "text/plain": [
       "  X1        X2       X3          X4         X5       X6       X7       \n",
       "1 140.56250 55.68378 -0.23457141 -0.6996484 3.199833 19.11043  7.975532\n",
       "2 102.50781 58.88243  0.46531815 -0.5150879 1.677258 14.86015 10.576487\n",
       "3 103.01562 39.34165  0.32332837  1.0511644 3.121237 21.74467  7.735822\n",
       "4 136.75000 57.17845 -0.06841464 -0.6362384 3.642977 20.95928  6.896499\n",
       "5  88.72656 40.67223  0.60086608  1.1234917 1.178930 11.46872 14.269573\n",
       "6  93.57031 46.69811  0.53190485  0.4167211 1.636288 14.54507 10.621748\n",
       "  X8        X9\n",
       "1  74.24222 0 \n",
       "2 127.39358 0 \n",
       "3  63.17191 0 \n",
       "4  53.59366 0 \n",
       "5 252.56731 0 \n",
       "6 131.39400 0 "
      ]
     },
     "metadata": {},
     "output_type": "display_data"
    }
   ],
   "source": [
    "pulsar_data <- read_csv(\"data/HTRU_2.csv\", col_names=FALSE)\n",
    "head(pulsar_data)"
   ]
  },
  {
   "cell_type": "markdown",
   "id": "6ade02d1-acb1-4090-a8eb-f270da0721bf",
   "metadata": {},
   "source": [
    "As we can see from the dataset, there are 8 distinct variables and 1 target label with 17,898 observations in total."
   ]
  },
  {
   "cell_type": "markdown",
   "id": "80a819ba-2fe6-4835-a407-70ab87e1fa78",
   "metadata": {},
   "source": [
    "### 2.2 Data Wrangling"
   ]
  },
  {
   "cell_type": "markdown",
   "id": "35108fd4-d2bc-4b98-9595-fe8ee0100292",
   "metadata": {},
   "source": [
    "We noticed the dataframe does not have proper column names and the type of the label column is incorrect. Therefore, we performed the following operations to clean the data."
   ]
  },
  {
   "cell_type": "code",
   "execution_count": 33,
   "id": "fac250b1-7291-43e2-b217-148b9fa3a12c",
   "metadata": {},
   "outputs": [
    {
     "data": {
      "text/html": [
       "<table class=\"dataframe\">\n",
       "<caption>A tibble: 6 × 9</caption>\n",
       "<thead>\n",
       "\t<tr><th scope=col>profile_mean</th><th scope=col>profile_sd</th><th scope=col>profile_kurtosis</th><th scope=col>profile_skewness</th><th scope=col>DM_SNR_mean</th><th scope=col>DM_SNR_sd</th><th scope=col>DM_SNR_kurtosis</th><th scope=col>DM_SNR_skewness</th><th scope=col>pulsar_star</th></tr>\n",
       "\t<tr><th scope=col>&lt;dbl&gt;</th><th scope=col>&lt;dbl&gt;</th><th scope=col>&lt;dbl&gt;</th><th scope=col>&lt;dbl&gt;</th><th scope=col>&lt;dbl&gt;</th><th scope=col>&lt;dbl&gt;</th><th scope=col>&lt;dbl&gt;</th><th scope=col>&lt;dbl&gt;</th><th scope=col>&lt;fct&gt;</th></tr>\n",
       "</thead>\n",
       "<tbody>\n",
       "\t<tr><td>140.56250</td><td>55.68378</td><td>-0.23457141</td><td>-0.6996484</td><td>3.199833</td><td>19.11043</td><td> 7.975532</td><td> 74.24222</td><td>false</td></tr>\n",
       "\t<tr><td>102.50781</td><td>58.88243</td><td> 0.46531815</td><td>-0.5150879</td><td>1.677258</td><td>14.86015</td><td>10.576487</td><td>127.39358</td><td>false</td></tr>\n",
       "\t<tr><td>103.01562</td><td>39.34165</td><td> 0.32332837</td><td> 1.0511644</td><td>3.121237</td><td>21.74467</td><td> 7.735822</td><td> 63.17191</td><td>false</td></tr>\n",
       "\t<tr><td>136.75000</td><td>57.17845</td><td>-0.06841464</td><td>-0.6362384</td><td>3.642977</td><td>20.95928</td><td> 6.896499</td><td> 53.59366</td><td>false</td></tr>\n",
       "\t<tr><td> 88.72656</td><td>40.67223</td><td> 0.60086608</td><td> 1.1234917</td><td>1.178930</td><td>11.46872</td><td>14.269573</td><td>252.56731</td><td>false</td></tr>\n",
       "\t<tr><td> 93.57031</td><td>46.69811</td><td> 0.53190485</td><td> 0.4167211</td><td>1.636288</td><td>14.54507</td><td>10.621748</td><td>131.39400</td><td>false</td></tr>\n",
       "</tbody>\n",
       "</table>\n"
      ],
      "text/latex": [
       "A tibble: 6 × 9\n",
       "\\begin{tabular}{lllllllll}\n",
       " profile\\_mean & profile\\_sd & profile\\_kurtosis & profile\\_skewness & DM\\_SNR\\_mean & DM\\_SNR\\_sd & DM\\_SNR\\_kurtosis & DM\\_SNR\\_skewness & pulsar\\_star\\\\\n",
       " <dbl> & <dbl> & <dbl> & <dbl> & <dbl> & <dbl> & <dbl> & <dbl> & <fct>\\\\\n",
       "\\hline\n",
       "\t 140.56250 & 55.68378 & -0.23457141 & -0.6996484 & 3.199833 & 19.11043 &  7.975532 &  74.24222 & false\\\\\n",
       "\t 102.50781 & 58.88243 &  0.46531815 & -0.5150879 & 1.677258 & 14.86015 & 10.576487 & 127.39358 & false\\\\\n",
       "\t 103.01562 & 39.34165 &  0.32332837 &  1.0511644 & 3.121237 & 21.74467 &  7.735822 &  63.17191 & false\\\\\n",
       "\t 136.75000 & 57.17845 & -0.06841464 & -0.6362384 & 3.642977 & 20.95928 &  6.896499 &  53.59366 & false\\\\\n",
       "\t  88.72656 & 40.67223 &  0.60086608 &  1.1234917 & 1.178930 & 11.46872 & 14.269573 & 252.56731 & false\\\\\n",
       "\t  93.57031 & 46.69811 &  0.53190485 &  0.4167211 & 1.636288 & 14.54507 & 10.621748 & 131.39400 & false\\\\\n",
       "\\end{tabular}\n"
      ],
      "text/markdown": [
       "\n",
       "A tibble: 6 × 9\n",
       "\n",
       "| profile_mean &lt;dbl&gt; | profile_sd &lt;dbl&gt; | profile_kurtosis &lt;dbl&gt; | profile_skewness &lt;dbl&gt; | DM_SNR_mean &lt;dbl&gt; | DM_SNR_sd &lt;dbl&gt; | DM_SNR_kurtosis &lt;dbl&gt; | DM_SNR_skewness &lt;dbl&gt; | pulsar_star &lt;fct&gt; |\n",
       "|---|---|---|---|---|---|---|---|---|\n",
       "| 140.56250 | 55.68378 | -0.23457141 | -0.6996484 | 3.199833 | 19.11043 |  7.975532 |  74.24222 | false |\n",
       "| 102.50781 | 58.88243 |  0.46531815 | -0.5150879 | 1.677258 | 14.86015 | 10.576487 | 127.39358 | false |\n",
       "| 103.01562 | 39.34165 |  0.32332837 |  1.0511644 | 3.121237 | 21.74467 |  7.735822 |  63.17191 | false |\n",
       "| 136.75000 | 57.17845 | -0.06841464 | -0.6362384 | 3.642977 | 20.95928 |  6.896499 |  53.59366 | false |\n",
       "|  88.72656 | 40.67223 |  0.60086608 |  1.1234917 | 1.178930 | 11.46872 | 14.269573 | 252.56731 | false |\n",
       "|  93.57031 | 46.69811 |  0.53190485 |  0.4167211 | 1.636288 | 14.54507 | 10.621748 | 131.39400 | false |\n",
       "\n"
      ],
      "text/plain": [
       "  profile_mean profile_sd profile_kurtosis profile_skewness DM_SNR_mean\n",
       "1 140.56250    55.68378   -0.23457141      -0.6996484       3.199833   \n",
       "2 102.50781    58.88243    0.46531815      -0.5150879       1.677258   \n",
       "3 103.01562    39.34165    0.32332837       1.0511644       3.121237   \n",
       "4 136.75000    57.17845   -0.06841464      -0.6362384       3.642977   \n",
       "5  88.72656    40.67223    0.60086608       1.1234917       1.178930   \n",
       "6  93.57031    46.69811    0.53190485       0.4167211       1.636288   \n",
       "  DM_SNR_sd DM_SNR_kurtosis DM_SNR_skewness pulsar_star\n",
       "1 19.11043   7.975532        74.24222       false      \n",
       "2 14.86015  10.576487       127.39358       false      \n",
       "3 21.74467   7.735822        63.17191       false      \n",
       "4 20.95928   6.896499        53.59366       false      \n",
       "5 11.46872  14.269573       252.56731       false      \n",
       "6 14.54507  10.621748       131.39400       false      "
      ]
     },
     "metadata": {},
     "output_type": "display_data"
    }
   ],
   "source": [
    "# rename the columns according to data/Readme.txt\n",
    "pulsar_data <- pulsar_data |>\n",
    "    rename(profile_mean = X1,\n",
    "          profile_sd = X2,\n",
    "          profile_kurtosis = X3,\n",
    "          profile_skewness = X4,\n",
    "          DM_SNR_mean = X5,\n",
    "          DM_SNR_sd = X6,\n",
    "          DM_SNR_kurtosis = X7,\n",
    "          DM_SNR_skewness = X8,\n",
    "          pulsar_star = X9) |> \n",
    "    # mark the label column as a categorical variable\n",
    "    mutate(pulsar_star = as_factor(pulsar_star)) |>\n",
    "    # pulsar_star refers to if the row is a pulsar star or not\n",
    "    mutate(pulsar_star = fct_recode(pulsar_star, \"true\" = \"1\", \"false\" = \"0\"))\n",
    "\n",
    "head(pulsar_data)"
   ]
  },
  {
   "cell_type": "markdown",
   "id": "2a1f22e2-642d-4c13-af2c-e3d3b2917718",
   "metadata": {},
   "source": [
    "Here, we divide the entire data set to a training part and a test part. The training set is 70% of the entire dataset, while testing set takes the other 30%."
   ]
  },
  {
   "cell_type": "code",
   "execution_count": 7,
   "id": "59129e68-8458-4238-a66e-10f59eb7b5b0",
   "metadata": {},
   "outputs": [
    {
     "data": {
      "text/html": [
       "<table class=\"dataframe\">\n",
       "<caption>A tibble: 6 × 9</caption>\n",
       "<thead>\n",
       "\t<tr><th scope=col>profile_mean</th><th scope=col>profile_sd</th><th scope=col>profile_kurtosis</th><th scope=col>profile_skewness</th><th scope=col>DM_SNR_mean</th><th scope=col>DM_SNR_sd</th><th scope=col>DM_SNR_kurtosis</th><th scope=col>DM_SNR_skewness</th><th scope=col>star_type</th></tr>\n",
       "\t<tr><th scope=col>&lt;dbl&gt;</th><th scope=col>&lt;dbl&gt;</th><th scope=col>&lt;dbl&gt;</th><th scope=col>&lt;dbl&gt;</th><th scope=col>&lt;dbl&gt;</th><th scope=col>&lt;dbl&gt;</th><th scope=col>&lt;dbl&gt;</th><th scope=col>&lt;dbl&gt;</th><th scope=col>&lt;fct&gt;</th></tr>\n",
       "</thead>\n",
       "<tbody>\n",
       "\t<tr><td>140.56250</td><td>55.68378</td><td>-0.23457141</td><td>-0.6996484</td><td>3.1998328</td><td>19.110426</td><td> 7.975532</td><td> 74.24222</td><td>0</td></tr>\n",
       "\t<tr><td>136.75000</td><td>57.17845</td><td>-0.06841464</td><td>-0.6362384</td><td>3.6429766</td><td>20.959280</td><td> 6.896499</td><td> 53.59366</td><td>0</td></tr>\n",
       "\t<tr><td> 88.72656</td><td>40.67223</td><td> 0.60086608</td><td> 1.1234917</td><td>1.1789298</td><td>11.468720</td><td>14.269573</td><td>252.56731</td><td>0</td></tr>\n",
       "\t<tr><td>119.48438</td><td>48.76506</td><td> 0.03146022</td><td>-0.1121676</td><td>0.9991639</td><td> 9.279612</td><td>19.206230</td><td>479.75657</td><td>0</td></tr>\n",
       "\t<tr><td>130.38281</td><td>39.84406</td><td>-0.15832276</td><td> 0.3895404</td><td>1.2207358</td><td>14.378941</td><td>13.539456</td><td>198.23646</td><td>0</td></tr>\n",
       "\t<tr><td>107.25781</td><td>39.49649</td><td> 0.46588196</td><td> 1.1628771</td><td>4.0794314</td><td>24.980418</td><td> 7.397080</td><td> 57.78474</td><td>0</td></tr>\n",
       "</tbody>\n",
       "</table>\n"
      ],
      "text/latex": [
       "A tibble: 6 × 9\n",
       "\\begin{tabular}{lllllllll}\n",
       " profile\\_mean & profile\\_sd & profile\\_kurtosis & profile\\_skewness & DM\\_SNR\\_mean & DM\\_SNR\\_sd & DM\\_SNR\\_kurtosis & DM\\_SNR\\_skewness & star\\_type\\\\\n",
       " <dbl> & <dbl> & <dbl> & <dbl> & <dbl> & <dbl> & <dbl> & <dbl> & <fct>\\\\\n",
       "\\hline\n",
       "\t 140.56250 & 55.68378 & -0.23457141 & -0.6996484 & 3.1998328 & 19.110426 &  7.975532 &  74.24222 & 0\\\\\n",
       "\t 136.75000 & 57.17845 & -0.06841464 & -0.6362384 & 3.6429766 & 20.959280 &  6.896499 &  53.59366 & 0\\\\\n",
       "\t  88.72656 & 40.67223 &  0.60086608 &  1.1234917 & 1.1789298 & 11.468720 & 14.269573 & 252.56731 & 0\\\\\n",
       "\t 119.48438 & 48.76506 &  0.03146022 & -0.1121676 & 0.9991639 &  9.279612 & 19.206230 & 479.75657 & 0\\\\\n",
       "\t 130.38281 & 39.84406 & -0.15832276 &  0.3895404 & 1.2207358 & 14.378941 & 13.539456 & 198.23646 & 0\\\\\n",
       "\t 107.25781 & 39.49649 &  0.46588196 &  1.1628771 & 4.0794314 & 24.980418 &  7.397080 &  57.78474 & 0\\\\\n",
       "\\end{tabular}\n"
      ],
      "text/markdown": [
       "\n",
       "A tibble: 6 × 9\n",
       "\n",
       "| profile_mean &lt;dbl&gt; | profile_sd &lt;dbl&gt; | profile_kurtosis &lt;dbl&gt; | profile_skewness &lt;dbl&gt; | DM_SNR_mean &lt;dbl&gt; | DM_SNR_sd &lt;dbl&gt; | DM_SNR_kurtosis &lt;dbl&gt; | DM_SNR_skewness &lt;dbl&gt; | star_type &lt;fct&gt; |\n",
       "|---|---|---|---|---|---|---|---|---|\n",
       "| 140.56250 | 55.68378 | -0.23457141 | -0.6996484 | 3.1998328 | 19.110426 |  7.975532 |  74.24222 | 0 |\n",
       "| 136.75000 | 57.17845 | -0.06841464 | -0.6362384 | 3.6429766 | 20.959280 |  6.896499 |  53.59366 | 0 |\n",
       "|  88.72656 | 40.67223 |  0.60086608 |  1.1234917 | 1.1789298 | 11.468720 | 14.269573 | 252.56731 | 0 |\n",
       "| 119.48438 | 48.76506 |  0.03146022 | -0.1121676 | 0.9991639 |  9.279612 | 19.206230 | 479.75657 | 0 |\n",
       "| 130.38281 | 39.84406 | -0.15832276 |  0.3895404 | 1.2207358 | 14.378941 | 13.539456 | 198.23646 | 0 |\n",
       "| 107.25781 | 39.49649 |  0.46588196 |  1.1628771 | 4.0794314 | 24.980418 |  7.397080 |  57.78474 | 0 |\n",
       "\n"
      ],
      "text/plain": [
       "  profile_mean profile_sd profile_kurtosis profile_skewness DM_SNR_mean\n",
       "1 140.56250    55.68378   -0.23457141      -0.6996484       3.1998328  \n",
       "2 136.75000    57.17845   -0.06841464      -0.6362384       3.6429766  \n",
       "3  88.72656    40.67223    0.60086608       1.1234917       1.1789298  \n",
       "4 119.48438    48.76506    0.03146022      -0.1121676       0.9991639  \n",
       "5 130.38281    39.84406   -0.15832276       0.3895404       1.2207358  \n",
       "6 107.25781    39.49649    0.46588196       1.1628771       4.0794314  \n",
       "  DM_SNR_sd DM_SNR_kurtosis DM_SNR_skewness star_type\n",
       "1 19.110426  7.975532        74.24222       0        \n",
       "2 20.959280  6.896499        53.59366       0        \n",
       "3 11.468720 14.269573       252.56731       0        \n",
       "4  9.279612 19.206230       479.75657       0        \n",
       "5 14.378941 13.539456       198.23646       0        \n",
       "6 24.980418  7.397080        57.78474       0        "
      ]
     },
     "metadata": {},
     "output_type": "display_data"
    },
    {
     "data": {
      "text/html": [
       "<table class=\"dataframe\">\n",
       "<caption>A tibble: 6 × 9</caption>\n",
       "<thead>\n",
       "\t<tr><th scope=col>profile_mean</th><th scope=col>profile_sd</th><th scope=col>profile_kurtosis</th><th scope=col>profile_skewness</th><th scope=col>DM_SNR_mean</th><th scope=col>DM_SNR_sd</th><th scope=col>DM_SNR_kurtosis</th><th scope=col>DM_SNR_skewness</th><th scope=col>star_type</th></tr>\n",
       "\t<tr><th scope=col>&lt;dbl&gt;</th><th scope=col>&lt;dbl&gt;</th><th scope=col>&lt;dbl&gt;</th><th scope=col>&lt;dbl&gt;</th><th scope=col>&lt;dbl&gt;</th><th scope=col>&lt;dbl&gt;</th><th scope=col>&lt;dbl&gt;</th><th scope=col>&lt;dbl&gt;</th><th scope=col>&lt;fct&gt;</th></tr>\n",
       "</thead>\n",
       "<tbody>\n",
       "\t<tr><td>102.50781</td><td>58.88243</td><td> 0.46531815</td><td>-0.51508791</td><td>1.677258</td><td>14.86015</td><td>10.576487</td><td>127.39358</td><td>0</td></tr>\n",
       "\t<tr><td>103.01562</td><td>39.34165</td><td> 0.32332837</td><td> 1.05116443</td><td>3.121237</td><td>21.74467</td><td> 7.735822</td><td> 63.17191</td><td>0</td></tr>\n",
       "\t<tr><td> 93.57031</td><td>46.69811</td><td> 0.53190485</td><td> 0.41672112</td><td>1.636288</td><td>14.54507</td><td>10.621748</td><td>131.39400</td><td>0</td></tr>\n",
       "\t<tr><td>107.25000</td><td>52.62708</td><td> 0.45268802</td><td> 0.17034738</td><td>2.331940</td><td>14.48685</td><td> 9.001004</td><td>107.97251</td><td>0</td></tr>\n",
       "\t<tr><td>133.25781</td><td>44.05824</td><td>-0.08105986</td><td> 0.11536151</td><td>1.632107</td><td>12.00781</td><td>11.972067</td><td>195.54345</td><td>0</td></tr>\n",
       "\t<tr><td>138.17969</td><td>51.52448</td><td>-0.03185233</td><td> 0.04679717</td><td>6.330268</td><td>31.57635</td><td> 5.155940</td><td> 26.14331</td><td>0</td></tr>\n",
       "</tbody>\n",
       "</table>\n"
      ],
      "text/latex": [
       "A tibble: 6 × 9\n",
       "\\begin{tabular}{lllllllll}\n",
       " profile\\_mean & profile\\_sd & profile\\_kurtosis & profile\\_skewness & DM\\_SNR\\_mean & DM\\_SNR\\_sd & DM\\_SNR\\_kurtosis & DM\\_SNR\\_skewness & star\\_type\\\\\n",
       " <dbl> & <dbl> & <dbl> & <dbl> & <dbl> & <dbl> & <dbl> & <dbl> & <fct>\\\\\n",
       "\\hline\n",
       "\t 102.50781 & 58.88243 &  0.46531815 & -0.51508791 & 1.677258 & 14.86015 & 10.576487 & 127.39358 & 0\\\\\n",
       "\t 103.01562 & 39.34165 &  0.32332837 &  1.05116443 & 3.121237 & 21.74467 &  7.735822 &  63.17191 & 0\\\\\n",
       "\t  93.57031 & 46.69811 &  0.53190485 &  0.41672112 & 1.636288 & 14.54507 & 10.621748 & 131.39400 & 0\\\\\n",
       "\t 107.25000 & 52.62708 &  0.45268802 &  0.17034738 & 2.331940 & 14.48685 &  9.001004 & 107.97251 & 0\\\\\n",
       "\t 133.25781 & 44.05824 & -0.08105986 &  0.11536151 & 1.632107 & 12.00781 & 11.972067 & 195.54345 & 0\\\\\n",
       "\t 138.17969 & 51.52448 & -0.03185233 &  0.04679717 & 6.330268 & 31.57635 &  5.155940 &  26.14331 & 0\\\\\n",
       "\\end{tabular}\n"
      ],
      "text/markdown": [
       "\n",
       "A tibble: 6 × 9\n",
       "\n",
       "| profile_mean &lt;dbl&gt; | profile_sd &lt;dbl&gt; | profile_kurtosis &lt;dbl&gt; | profile_skewness &lt;dbl&gt; | DM_SNR_mean &lt;dbl&gt; | DM_SNR_sd &lt;dbl&gt; | DM_SNR_kurtosis &lt;dbl&gt; | DM_SNR_skewness &lt;dbl&gt; | star_type &lt;fct&gt; |\n",
       "|---|---|---|---|---|---|---|---|---|\n",
       "| 102.50781 | 58.88243 |  0.46531815 | -0.51508791 | 1.677258 | 14.86015 | 10.576487 | 127.39358 | 0 |\n",
       "| 103.01562 | 39.34165 |  0.32332837 |  1.05116443 | 3.121237 | 21.74467 |  7.735822 |  63.17191 | 0 |\n",
       "|  93.57031 | 46.69811 |  0.53190485 |  0.41672112 | 1.636288 | 14.54507 | 10.621748 | 131.39400 | 0 |\n",
       "| 107.25000 | 52.62708 |  0.45268802 |  0.17034738 | 2.331940 | 14.48685 |  9.001004 | 107.97251 | 0 |\n",
       "| 133.25781 | 44.05824 | -0.08105986 |  0.11536151 | 1.632107 | 12.00781 | 11.972067 | 195.54345 | 0 |\n",
       "| 138.17969 | 51.52448 | -0.03185233 |  0.04679717 | 6.330268 | 31.57635 |  5.155940 |  26.14331 | 0 |\n",
       "\n"
      ],
      "text/plain": [
       "  profile_mean profile_sd profile_kurtosis profile_skewness DM_SNR_mean\n",
       "1 102.50781    58.88243    0.46531815      -0.51508791      1.677258   \n",
       "2 103.01562    39.34165    0.32332837       1.05116443      3.121237   \n",
       "3  93.57031    46.69811    0.53190485       0.41672112      1.636288   \n",
       "4 107.25000    52.62708    0.45268802       0.17034738      2.331940   \n",
       "5 133.25781    44.05824   -0.08105986       0.11536151      1.632107   \n",
       "6 138.17969    51.52448   -0.03185233       0.04679717      6.330268   \n",
       "  DM_SNR_sd DM_SNR_kurtosis DM_SNR_skewness star_type\n",
       "1 14.86015  10.576487       127.39358       0        \n",
       "2 21.74467   7.735822        63.17191       0        \n",
       "3 14.54507  10.621748       131.39400       0        \n",
       "4 14.48685   9.001004       107.97251       0        \n",
       "5 12.00781  11.972067       195.54345       0        \n",
       "6 31.57635   5.155940        26.14331       0        "
      ]
     },
     "metadata": {},
     "output_type": "display_data"
    }
   ],
   "source": [
    "pulsar_split <- initial_split(pulsar_data, prop = 0.7, strata = star_type)  \n",
    "pulsar_train <- training(pulsar_split)\n",
    "pulsar_test <- testing(pulsar_split)\n",
    "head(pulsar_train)\n",
    "head(pulsar_test)\n",
    "# TODO: resample the observations to solve the category imbalance problem."
   ]
  },
  {
   "cell_type": "markdown",
   "id": "0f0a37b2-e861-45ff-8bec-d3dda3fb8da6",
   "metadata": {},
   "source": [
    "### 2.3 Data Summary"
   ]
  },
  {
   "cell_type": "markdown",
   "id": "7564042d-c7c4-4dc6-a36a-d0f14fe7cb1d",
   "metadata": {},
   "source": [
    "In order to get more insights on the datasets, here, we first analyze the number of observations in each class."
   ]
  },
  {
   "cell_type": "code",
   "execution_count": 9,
   "id": "f22d910e-90f0-41c3-bae6-347b13fd6a91",
   "metadata": {},
   "outputs": [
    {
     "data": {
      "text/html": [
       "<table class=\"dataframe\">\n",
       "<caption>A tibble: 2 × 2</caption>\n",
       "<thead>\n",
       "\t<tr><th scope=col>star_type</th><th scope=col>num</th></tr>\n",
       "\t<tr><th scope=col>&lt;fct&gt;</th><th scope=col>&lt;int&gt;</th></tr>\n",
       "</thead>\n",
       "<tbody>\n",
       "\t<tr><td>0</td><td>11384</td></tr>\n",
       "\t<tr><td>1</td><td> 1144</td></tr>\n",
       "</tbody>\n",
       "</table>\n"
      ],
      "text/latex": [
       "A tibble: 2 × 2\n",
       "\\begin{tabular}{ll}\n",
       " star\\_type & num\\\\\n",
       " <fct> & <int>\\\\\n",
       "\\hline\n",
       "\t 0 & 11384\\\\\n",
       "\t 1 &  1144\\\\\n",
       "\\end{tabular}\n"
      ],
      "text/markdown": [
       "\n",
       "A tibble: 2 × 2\n",
       "\n",
       "| star_type &lt;fct&gt; | num &lt;int&gt; |\n",
       "|---|---|\n",
       "| 0 | 11384 |\n",
       "| 1 |  1144 |\n",
       "\n"
      ],
      "text/plain": [
       "  star_type num  \n",
       "1 0         11384\n",
       "2 1          1144"
      ]
     },
     "metadata": {},
     "output_type": "display_data"
    }
   ],
   "source": [
    "num_observations <- pulsar_train |>\n",
    "    group_by(star_type) |>\n",
    "    summarize(num = n())\n",
    "num_observations"
   ]
  },
  {
   "cell_type": "markdown",
   "id": "d6d01fec-7481-4961-a94d-0efd73e6a299",
   "metadata": {},
   "source": [
    "## 3. Methods"
   ]
  },
  {
   "cell_type": "markdown",
   "id": "79d34a68-0ce2-45de-8a1f-3faa0dbea48a",
   "metadata": {},
   "source": [
    "## 4. Expected outcomes and significance"
   ]
  },
  {
   "cell_type": "code",
   "execution_count": null,
   "id": "a34714d6-22b9-4ded-bd07-1babf16282ac",
   "metadata": {},
   "outputs": [],
   "source": []
  }
 ],
 "metadata": {
  "kernelspec": {
   "display_name": "R",
   "language": "R",
   "name": "ir"
  },
  "language_info": {
   "codemirror_mode": "r",
   "file_extension": ".r",
   "mimetype": "text/x-r-source",
   "name": "R",
   "pygments_lexer": "r",
   "version": "4.3.1"
  }
 },
 "nbformat": 4,
 "nbformat_minor": 5
}
